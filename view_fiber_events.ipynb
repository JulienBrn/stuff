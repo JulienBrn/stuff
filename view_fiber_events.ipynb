{
 "cells": [
  {
   "cell_type": "code",
   "execution_count": 132,
   "metadata": {},
   "outputs": [],
   "source": [
    "import numpy as np, pandas as pd, xarray as xr\n",
    "import matplotlib\n",
    "import matplotlib.pyplot as plt\n",
    "%matplotlib qt"
   ]
  },
  {
   "cell_type": "code",
   "execution_count": 133,
   "metadata": {},
   "outputs": [
    {
     "data": {
      "text/html": [
       "<div>\n",
       "<style scoped>\n",
       "    .dataframe tbody tr th:only-of-type {\n",
       "        vertical-align: middle;\n",
       "    }\n",
       "\n",
       "    .dataframe tbody tr th {\n",
       "        vertical-align: top;\n",
       "    }\n",
       "\n",
       "    .dataframe thead th {\n",
       "        text-align: right;\n",
       "    }\n",
       "</style>\n",
       "<table border=\"1\" class=\"dataframe\">\n",
       "  <thead>\n",
       "    <tr style=\"text-align: right;\">\n",
       "      <th></th>\n",
       "      <th>TimeStamp</th>\n",
       "      <th>Markings</th>\n",
       "      <th>CH1-410</th>\n",
       "      <th>CH1-470</th>\n",
       "      <th>CH2-410</th>\n",
       "      <th>CH2-470</th>\n",
       "      <th>Unnamed: 6</th>\n",
       "    </tr>\n",
       "  </thead>\n",
       "  <tbody>\n",
       "    <tr>\n",
       "      <th>0</th>\n",
       "      <td>0.000</td>\n",
       "      <td>NaN</td>\n",
       "      <td>48.834</td>\n",
       "      <td>41.447</td>\n",
       "      <td>17.751</td>\n",
       "      <td>28.828</td>\n",
       "      <td>NaN</td>\n",
       "    </tr>\n",
       "    <tr>\n",
       "      <th>1</th>\n",
       "      <td>20.000</td>\n",
       "      <td>NaN</td>\n",
       "      <td>48.839</td>\n",
       "      <td>41.357</td>\n",
       "      <td>17.850</td>\n",
       "      <td>28.849</td>\n",
       "      <td>NaN</td>\n",
       "    </tr>\n",
       "    <tr>\n",
       "      <th>2</th>\n",
       "      <td>40.000</td>\n",
       "      <td>NaN</td>\n",
       "      <td>48.718</td>\n",
       "      <td>41.280</td>\n",
       "      <td>17.871</td>\n",
       "      <td>28.811</td>\n",
       "      <td>NaN</td>\n",
       "    </tr>\n",
       "    <tr>\n",
       "      <th>3</th>\n",
       "      <td>60.000</td>\n",
       "      <td>NaN</td>\n",
       "      <td>48.615</td>\n",
       "      <td>41.209</td>\n",
       "      <td>17.859</td>\n",
       "      <td>28.759</td>\n",
       "      <td>NaN</td>\n",
       "    </tr>\n",
       "    <tr>\n",
       "      <th>4</th>\n",
       "      <td>80.000</td>\n",
       "      <td>NaN</td>\n",
       "      <td>48.540</td>\n",
       "      <td>41.161</td>\n",
       "      <td>17.867</td>\n",
       "      <td>28.752</td>\n",
       "      <td>NaN</td>\n",
       "    </tr>\n",
       "    <tr>\n",
       "      <th>...</th>\n",
       "      <td>...</td>\n",
       "      <td>...</td>\n",
       "      <td>...</td>\n",
       "      <td>...</td>\n",
       "      <td>...</td>\n",
       "      <td>...</td>\n",
       "      <td>...</td>\n",
       "    </tr>\n",
       "    <tr>\n",
       "      <th>127964</th>\n",
       "      <td>2559292.003</td>\n",
       "      <td>NaN</td>\n",
       "      <td>25.823</td>\n",
       "      <td>26.623</td>\n",
       "      <td>12.299</td>\n",
       "      <td>22.898</td>\n",
       "      <td>NaN</td>\n",
       "    </tr>\n",
       "    <tr>\n",
       "      <th>127965</th>\n",
       "      <td>2559312.003</td>\n",
       "      <td>NaN</td>\n",
       "      <td>25.853</td>\n",
       "      <td>26.619</td>\n",
       "      <td>12.333</td>\n",
       "      <td>22.945</td>\n",
       "      <td>NaN</td>\n",
       "    </tr>\n",
       "    <tr>\n",
       "      <th>127966</th>\n",
       "      <td>2559332.004</td>\n",
       "      <td>NaN</td>\n",
       "      <td>25.851</td>\n",
       "      <td>26.618</td>\n",
       "      <td>12.331</td>\n",
       "      <td>22.922</td>\n",
       "      <td>NaN</td>\n",
       "    </tr>\n",
       "    <tr>\n",
       "      <th>127967</th>\n",
       "      <td>2559352.004</td>\n",
       "      <td>NaN</td>\n",
       "      <td>25.855</td>\n",
       "      <td>26.624</td>\n",
       "      <td>12.307</td>\n",
       "      <td>22.948</td>\n",
       "      <td>NaN</td>\n",
       "    </tr>\n",
       "    <tr>\n",
       "      <th>127968</th>\n",
       "      <td>2559372.004</td>\n",
       "      <td>NaN</td>\n",
       "      <td>25.828</td>\n",
       "      <td>26.603</td>\n",
       "      <td>12.296</td>\n",
       "      <td>22.881</td>\n",
       "      <td>NaN</td>\n",
       "    </tr>\n",
       "  </tbody>\n",
       "</table>\n",
       "<p>127969 rows × 7 columns</p>\n",
       "</div>"
      ],
      "text/plain": [
       "          TimeStamp Markings  CH1-410  CH1-470  CH2-410  CH2-470  Unnamed: 6\n",
       "0             0.000      NaN   48.834   41.447   17.751   28.828         NaN\n",
       "1            20.000      NaN   48.839   41.357   17.850   28.849         NaN\n",
       "2            40.000      NaN   48.718   41.280   17.871   28.811         NaN\n",
       "3            60.000      NaN   48.615   41.209   17.859   28.759         NaN\n",
       "4            80.000      NaN   48.540   41.161   17.867   28.752         NaN\n",
       "...             ...      ...      ...      ...      ...      ...         ...\n",
       "127964  2559292.003      NaN   25.823   26.623   12.299   22.898         NaN\n",
       "127965  2559312.003      NaN   25.853   26.619   12.333   22.945         NaN\n",
       "127966  2559332.004      NaN   25.851   26.618   12.331   22.922         NaN\n",
       "127967  2559352.004      NaN   25.855   26.624   12.307   22.948         NaN\n",
       "127968  2559372.004      NaN   25.828   26.603   12.296   22.881         NaN\n",
       "\n",
       "[127969 rows x 7 columns]"
      ]
     },
     "execution_count": 133,
     "metadata": {},
     "output_type": "execute_result"
    }
   ],
   "source": [
    "\n",
    "\n",
    "\n",
    "all_dfs = []\n",
    "data = {}\n",
    "f = \"/home/julienb/Documents/Data/Luisa/Fluorescence.csv\"\n",
    "df = pd.read_csv(f, header=1, index_col=False)\n",
    "df\n"
   ]
  },
  {
   "cell_type": "code",
   "execution_count": 134,
   "metadata": {},
   "outputs": [
    {
     "data": {
      "text/html": [
       "<div>\n",
       "<style scoped>\n",
       "    .dataframe tbody tr th:only-of-type {\n",
       "        vertical-align: middle;\n",
       "    }\n",
       "\n",
       "    .dataframe tbody tr th {\n",
       "        vertical-align: top;\n",
       "    }\n",
       "\n",
       "    .dataframe thead th {\n",
       "        text-align: right;\n",
       "    }\n",
       "</style>\n",
       "<table border=\"1\" class=\"dataframe\">\n",
       "  <thead>\n",
       "    <tr style=\"text-align: right;\">\n",
       "      <th></th>\n",
       "      <th>TimeStamp</th>\n",
       "      <th>CH2-410</th>\n",
       "      <th>CH2-470</th>\n",
       "      <th>Unnamed: 6</th>\n",
       "      <th>file</th>\n",
       "      <th>input</th>\n",
       "    </tr>\n",
       "  </thead>\n",
       "  <tbody>\n",
       "    <tr>\n",
       "      <th>223</th>\n",
       "      <td>4460.021</td>\n",
       "      <td>17.113</td>\n",
       "      <td>27.559</td>\n",
       "      <td>NaN</td>\n",
       "      <td>/home/julienb/Documents/Data/Luisa/Fluorescenc...</td>\n",
       "      <td>Input1</td>\n",
       "    </tr>\n",
       "    <tr>\n",
       "      <th>631</th>\n",
       "      <td>12620.059</td>\n",
       "      <td>16.784</td>\n",
       "      <td>27.140</td>\n",
       "      <td>NaN</td>\n",
       "      <td>/home/julienb/Documents/Data/Luisa/Fluorescenc...</td>\n",
       "      <td>Input3</td>\n",
       "    </tr>\n",
       "    <tr>\n",
       "      <th>657</th>\n",
       "      <td>13140.061</td>\n",
       "      <td>16.748</td>\n",
       "      <td>27.027</td>\n",
       "      <td>NaN</td>\n",
       "      <td>/home/julienb/Documents/Data/Luisa/Fluorescenc...</td>\n",
       "      <td>Input4</td>\n",
       "    </tr>\n",
       "    <tr>\n",
       "      <th>669</th>\n",
       "      <td>13380.062</td>\n",
       "      <td>16.769</td>\n",
       "      <td>26.984</td>\n",
       "      <td>NaN</td>\n",
       "      <td>/home/julienb/Documents/Data/Luisa/Fluorescenc...</td>\n",
       "      <td>Input2</td>\n",
       "    </tr>\n",
       "    <tr>\n",
       "      <th>889</th>\n",
       "      <td>17780.083</td>\n",
       "      <td>16.641</td>\n",
       "      <td>26.897</td>\n",
       "      <td>NaN</td>\n",
       "      <td>/home/julienb/Documents/Data/Luisa/Fluorescenc...</td>\n",
       "      <td>Input1</td>\n",
       "    </tr>\n",
       "    <tr>\n",
       "      <th>...</th>\n",
       "      <td>...</td>\n",
       "      <td>...</td>\n",
       "      <td>...</td>\n",
       "      <td>...</td>\n",
       "      <td>...</td>\n",
       "      <td>...</td>\n",
       "    </tr>\n",
       "    <tr>\n",
       "      <th>67551</th>\n",
       "      <td>1351026.303</td>\n",
       "      <td>13.034</td>\n",
       "      <td>23.672</td>\n",
       "      <td>NaN</td>\n",
       "      <td>/home/julienb/Documents/Data/Luisa/Fluorescenc...</td>\n",
       "      <td>Input1</td>\n",
       "    </tr>\n",
       "    <tr>\n",
       "      <th>96516</th>\n",
       "      <td>1930329.031</td>\n",
       "      <td>12.694</td>\n",
       "      <td>23.579</td>\n",
       "      <td>NaN</td>\n",
       "      <td>/home/julienb/Documents/Data/Luisa/Fluorescenc...</td>\n",
       "      <td>Input3</td>\n",
       "    </tr>\n",
       "    <tr>\n",
       "      <th>96541</th>\n",
       "      <td>1930829.033</td>\n",
       "      <td>12.680</td>\n",
       "      <td>23.475</td>\n",
       "      <td>NaN</td>\n",
       "      <td>/home/julienb/Documents/Data/Luisa/Fluorescenc...</td>\n",
       "      <td>Input4</td>\n",
       "    </tr>\n",
       "    <tr>\n",
       "      <th>96588</th>\n",
       "      <td>1931769.038</td>\n",
       "      <td>12.657</td>\n",
       "      <td>23.308</td>\n",
       "      <td>NaN</td>\n",
       "      <td>/home/julienb/Documents/Data/Luisa/Fluorescenc...</td>\n",
       "      <td>Input2</td>\n",
       "    </tr>\n",
       "    <tr>\n",
       "      <th>96845</th>\n",
       "      <td>1936909.062</td>\n",
       "      <td>12.652</td>\n",
       "      <td>23.340</td>\n",
       "      <td>NaN</td>\n",
       "      <td>/home/julienb/Documents/Data/Luisa/Fluorescenc...</td>\n",
       "      <td>Input1</td>\n",
       "    </tr>\n",
       "  </tbody>\n",
       "</table>\n",
       "<p>223 rows × 6 columns</p>\n",
       "</div>"
      ],
      "text/plain": [
       "         TimeStamp  CH2-410  CH2-470  Unnamed: 6  \\\n",
       "223       4460.021   17.113   27.559         NaN   \n",
       "631      12620.059   16.784   27.140         NaN   \n",
       "657      13140.061   16.748   27.027         NaN   \n",
       "669      13380.062   16.769   26.984         NaN   \n",
       "889      17780.083   16.641   26.897         NaN   \n",
       "...            ...      ...      ...         ...   \n",
       "67551  1351026.303   13.034   23.672         NaN   \n",
       "96516  1930329.031   12.694   23.579         NaN   \n",
       "96541  1930829.033   12.680   23.475         NaN   \n",
       "96588  1931769.038   12.657   23.308         NaN   \n",
       "96845  1936909.062   12.652   23.340         NaN   \n",
       "\n",
       "                                                    file   input  \n",
       "223    /home/julienb/Documents/Data/Luisa/Fluorescenc...  Input1  \n",
       "631    /home/julienb/Documents/Data/Luisa/Fluorescenc...  Input3  \n",
       "657    /home/julienb/Documents/Data/Luisa/Fluorescenc...  Input4  \n",
       "669    /home/julienb/Documents/Data/Luisa/Fluorescenc...  Input2  \n",
       "889    /home/julienb/Documents/Data/Luisa/Fluorescenc...  Input1  \n",
       "...                                                  ...     ...  \n",
       "67551  /home/julienb/Documents/Data/Luisa/Fluorescenc...  Input1  \n",
       "96516  /home/julienb/Documents/Data/Luisa/Fluorescenc...  Input3  \n",
       "96541  /home/julienb/Documents/Data/Luisa/Fluorescenc...  Input4  \n",
       "96588  /home/julienb/Documents/Data/Luisa/Fluorescenc...  Input2  \n",
       "96845  /home/julienb/Documents/Data/Luisa/Fluorescenc...  Input1  \n",
       "\n",
       "[223 rows x 6 columns]"
      ]
     },
     "execution_count": 134,
     "metadata": {},
     "output_type": "execute_result"
    }
   ],
   "source": [
    "data[str(f)] = {\"t\": df[\"TimeStamp\"].to_numpy(),\"CH-410\": df[\"CH1-410\"].to_numpy(), \"CH-470\": df[\"CH1-470\"].to_numpy()}\n",
    "\n",
    "def get_input(marking):\n",
    "    if isinstance(marking, str) and marking:\n",
    "        if marking.split(\"*\")[2]=='0;':\n",
    "            return marking.split(\"*\")[0]\n",
    "    return np.nan\n",
    "df[\"file\"] = str(f)\n",
    "df[\"input\"] = df[\"Markings\"].apply(get_input)\n",
    "df = df.drop(columns=[\"CH1-470\", \"CH1-410\", \"Markings\"])\n",
    "df = df.loc[~df[\"input\"].isna(), :]\n",
    "all_dfs.append(df)\n",
    "    \n",
    "events = pd.concat(all_dfs)\n",
    "events"
   ]
  },
  {
   "cell_type": "code",
   "execution_count": 135,
   "metadata": {},
   "outputs": [
    {
     "data": {
      "text/plain": [
       "input\n",
       "Input1    60\n",
       "Input2    52\n",
       "Input3    59\n",
       "Input4    52\n",
       "Name: TimeStamp, dtype: int64"
      ]
     },
     "execution_count": 135,
     "metadata": {},
     "output_type": "execute_result"
    }
   ],
   "source": [
    "events.groupby(\"input\")[\"TimeStamp\"].count()"
   ]
  },
  {
   "cell_type": "code",
   "execution_count": 136,
   "metadata": {},
   "outputs": [
    {
     "data": {
      "text/plain": [
       "(52,)"
      ]
     },
     "execution_count": 136,
     "metadata": {},
     "output_type": "execute_result"
    }
   ],
   "source": [
    "event=\"Input4\"\n",
    "fiber_ev = events[events[\"input\"] ==event][\"TimeStamp\"].to_numpy()/1000\n",
    "fiber_lever_ev = events[events[\"input\"] ==\"Input3\"][\"TimeStamp\"].to_numpy()/1000\n",
    "fiber_laser_ev = events[events[\"input\"] ==\"Input1\"][\"TimeStamp\"].to_numpy()/1000\n",
    "fiber_ev.shape\n"
   ]
  },
  {
   "cell_type": "code",
   "execution_count": 137,
   "metadata": {},
   "outputs": [
    {
     "data": {
      "text/plain": [
       "((60,), (61,))"
      ]
     },
     "execution_count": 137,
     "metadata": {},
     "output_type": "execute_result"
    }
   ],
   "source": [
    "spike2_channel = \"Reward\"\n",
    "spike2_ev: np.ndarray = np.load(f\"/home/julienb/Documents/Data/Luisa//Rat26_20240416_newtask21_data/{spike2_channel}.npy\")\n",
    "spike_2_lasertri = np.load(\"tmp.npy\")\n",
    "if spike2_ev.ndim >1:\n",
    "    spike2_ev = np.mean(spike2_ev, axis=1)\n",
    "spike2_ev.shape, spike_2_lasertri.shape"
   ]
  },
  {
   "cell_type": "code",
   "execution_count": 138,
   "metadata": {},
   "outputs": [
    {
     "data": {
      "text/plain": [
       "array([[ 2.32673400e+00, -6.57330700e+00, -2.03333710e+01, ...,\n",
       "        -6.98976528e+02, -7.09316576e+02, -1.91536224e+03],\n",
       "       [ 1.12359590e+01,  2.33591800e+00, -1.14241460e+01, ...,\n",
       "        -6.90067303e+02, -7.00407351e+02, -1.90645301e+03],\n",
       "       [ 2.50072990e+01,  1.61072580e+01,  2.34719400e+00, ...,\n",
       "        -6.76295963e+02, -6.86636011e+02, -1.89268167e+03],\n",
       "       ...,\n",
       "       [ 1.91998012e+03,  1.91108008e+03,  1.89732001e+03, ...,\n",
       "         1.21867686e+03,  1.20833681e+03,  2.29114700e+00],\n",
       "       [ 2.40528970e+03,  2.39638966e+03,  2.38262960e+03, ...,\n",
       "         1.70398644e+03,  1.69364639e+03,  4.87600732e+02],\n",
       "       [ 2.40597943e+03,  2.39707939e+03,  2.38331933e+03, ...,\n",
       "         1.70467617e+03,  1.69433612e+03,  4.88290462e+02]])"
      ]
     },
     "execution_count": 138,
     "metadata": {},
     "output_type": "execute_result"
    }
   ],
   "source": [
    "pairs = spike2_ev.reshape(-1, 1) - fiber_ev.reshape(1, -1)\n",
    "pairs"
   ]
  },
  {
   "cell_type": "code",
   "execution_count": 139,
   "metadata": {},
   "outputs": [],
   "source": [
    "sorted = np.sort(pairs.flatten())"
   ]
  },
  {
   "cell_type": "code",
   "execution_count": 146,
   "metadata": {},
   "outputs": [
    {
     "data": {
      "text/plain": [
       "{'shift': 2.3335449999999014, 'precision': 0.0314649999998835}"
      ]
     },
     "execution_count": 146,
     "metadata": {},
     "output_type": "execute_result"
    }
   ],
   "source": [
    "a = xr.DataArray(sorted, dims=\"index\")\n",
    "a[\"index\"] = np.arange(sorted.size)\n",
    "win_size = fiber_ev.size-1\n",
    "var = a.rolling(index=win_size, center=True).var()\n",
    "i = var.argmin(\"index\")\n",
    "d = a.sel(index=i).item()\n",
    "dict(shift=d, precision=(a.sel(index=i+win_size//2) - a.sel(index=i-win_size//2)).item())\n"
   ]
  },
  {
   "cell_type": "code",
   "execution_count": 141,
   "metadata": {},
   "outputs": [],
   "source": [
    "# basic_h, basic_edges = np.histogram(pairs.flatten(), bins=np.linspace(-100, 100, 200))\n",
    "# n = basic_h.max()\n",
    "# pos = basic_h.argmax()\n",
    "# print(n)\n",
    "# h, edges = np.histogram(pairs.flatten(), range=(basic_edges[pos], basic_edges[pos+1]), bins=1000)\n",
    "# pos = h.argmax()\n",
    "# d = (edges[pos]+ edges[pos+1])/2\n",
    "# print(d, h.max())"
   ]
  },
  {
   "cell_type": "code",
   "execution_count": null,
   "metadata": {},
   "outputs": [],
   "source": []
  },
  {
   "cell_type": "code",
   "execution_count": null,
   "metadata": {},
   "outputs": [],
   "source": []
  },
  {
   "cell_type": "code",
   "execution_count": 142,
   "metadata": {},
   "outputs": [
    {
     "data": {
      "text/plain": [
       "<matplotlib.legend.Legend at 0x7473ba572650>"
      ]
     },
     "execution_count": 142,
     "metadata": {},
     "output_type": "execute_result"
    }
   ],
   "source": [
    "\n",
    "plt.eventplot(fiber_ev, color=\"red\", label=f\"fiber {event}\")\n",
    "plt.eventplot(spike2_ev - d, color=\"green\", label=f\"spike2 {spike2_channel}\", linestyles=\":\")\n",
    "plt.eventplot(spike_2_lasertri - d, color=\"blue\", label=f\"spike2 lasertri\", linestyles=\":\")\n",
    "plt.eventplot(fiber_lever_ev, color=\"purple\", label=f\"fiber lever_press?\")\n",
    "plt.eventplot(fiber_laser_ev, color=\"pink\", label=f\"fiber input1\")\n",
    "plt.legend()"
   ]
  }
 ],
 "metadata": {
  "kernelspec": {
   "display_name": "dev",
   "language": "python",
   "name": "python3"
  },
  "language_info": {
   "codemirror_mode": {
    "name": "ipython",
    "version": 3
   },
   "file_extension": ".py",
   "mimetype": "text/x-python",
   "name": "python",
   "nbconvert_exporter": "python",
   "pygments_lexer": "ipython3",
   "version": "3.11.8"
  }
 },
 "nbformat": 4,
 "nbformat_minor": 2
}
