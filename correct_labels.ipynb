{
 "cells": [
  {
   "cell_type": "code",
   "execution_count": 10,
   "metadata": {},
   "outputs": [],
   "source": [
    "from pathlib import Path\n",
    "import numpy as np, pandas as pd, xarray as xr\n",
    "import scipy.signal"
   ]
  },
  {
   "cell_type": "code",
   "execution_count": 11,
   "metadata": {},
   "outputs": [
    {
     "data": {
      "text/plain": [
       "(100000000,)"
      ]
     },
     "execution_count": 11,
     "metadata": {},
     "output_type": "execute_result"
    }
   ],
   "source": [
    "file = Path(\"/media/julienb/Elements/Carmen/LMAN_project/LMANX_correlations_project/LMANX_behavior_data/BirdData/B60/Sessions/2022-04-21/2022-04-21_13-40-27/song/uncorrected_labels.txt\")\n",
    "timings = pd.read_csv(file, header=None, names=[\"start\", \"end\", \"syb\"])\n",
    "song = np.load(file.parent/ \"CSC20.npy\").reshape(-1)[:10**8]\n",
    "threshold = 3e-7\n",
    "fs = 32*(10**3)\n",
    "song.shape"
   ]
  },
  {
   "cell_type": "code",
   "execution_count": 12,
   "metadata": {},
   "outputs": [],
   "source": [
    "def bandpass_filtfilt(rawsong, samp_freq, freq_cutoffs=(500, 10000)):\n",
    "    if freq_cutoffs[0] <= 0:\n",
    "        raise ValueError('Low frequency cutoff {} is invalid, '\n",
    "                         'must be greater than zero.'\n",
    "                         .format(freq_cutoffs[0]))\n",
    "    \n",
    "    Nyquist_rate = samp_freq / 2\n",
    "    if freq_cutoffs[1] >= Nyquist_rate:\n",
    "        raise ValueError('High frequency cutoff {} is invalid, '\n",
    "                         'must be less than Nyquist rate, {}.'\n",
    "                         .format(freq_cutoffs[1], Nyquist_rate))\n",
    "    \n",
    "    if rawsong.shape[-1] < 387:\n",
    "        numtaps = 64\n",
    "    elif rawsong.shape[-1] < 771:\n",
    "        numtaps = 128\n",
    "    elif rawsong.shape[-1] < 1539:\n",
    "        numtaps = 256\n",
    "    else:\n",
    "        numtaps = 512\n",
    "\n",
    "    cutoffs = np.asarray([freq_cutoffs[0] / Nyquist_rate,\n",
    "                          freq_cutoffs[1] / Nyquist_rate])\n",
    "                          # code on which this is based, bandpass_filtfilt.m, says it uses Hann(ing)\n",
    "# window to design filter, but default for matlab's fir1\n",
    "# is actually Hamming\n",
    "# note that first parameter for scipy.signal.firwin is filter *length*\n",
    "# whereas argument to matlab's fir1 is filter *order*\n",
    "# for linear FIR, filter length is filter order + 1\n",
    "    b = scipy.signal.firwin(numtaps + 1, cutoffs, pass_zero=False)\n",
    "    a = np.zeros((numtaps+1,))\n",
    "    a[0] = 1  # make an \"all-zero filter\"\n",
    "    padlen = np.max((b.shape[-1] - 1, a.shape[-1] - 1))\n",
    "    print(b.shape, a.shape, rawsong.shape, padlen)\n",
    "    filtsong = scipy.signal.filtfilt(b, a, rawsong, padlen=padlen)\n",
    "    #filtsong = filter_song(b, a, rawsong)\n",
    "    return (filtsong)"
   ]
  },
  {
   "cell_type": "code",
   "execution_count": 13,
   "metadata": {},
   "outputs": [],
   "source": [
    "def smooth_data(rawsong, samp_freq, freq_cutoffs=None, smooth_win=10):\n",
    "    \n",
    "    if freq_cutoffs is None:\n",
    "        # then don't do bandpass_filtfilt\n",
    "        filtsong = rawsong\n",
    "    else:\n",
    "        filtsong = bandpass_filtfilt(rawsong, samp_freq, freq_cutoffs)\n",
    "\n",
    "    squared_song = np.power(filtsong, 2)\n",
    "\n",
    "    len = np.round(samp_freq * smooth_win / 1000).astype(int)\n",
    "    h = np.ones((len,)) / len\n",
    "    smooth = np.convolve(squared_song, h)\n",
    "    offset = round((smooth.shape[-1] - filtsong.shape[-1]) / 2)\n",
    "    smooth = smooth[offset:filtsong.shape[-1] + offset]\n",
    "    return smooth\n",
    "\n"
   ]
  },
  {
   "cell_type": "code",
   "execution_count": 14,
   "metadata": {},
   "outputs": [
    {
     "name": "stdout",
     "output_type": "stream",
     "text": [
      "(513,) (513,) (100000000,) 512\n"
     ]
    },
    {
     "data": {
      "text/plain": [
       "(100000000,)"
      ]
     },
     "execution_count": 14,
     "metadata": {},
     "output_type": "execute_result"
    }
   ],
   "source": [
    "\n",
    "amp = smooth_data(song, fs, freq_cutoffs=(1000, 8000))\n",
    "amp.shape"
   ]
  },
  {
   "cell_type": "code",
   "execution_count": 15,
   "metadata": {},
   "outputs": [],
   "source": [
    "binary_amp = amp < threshold"
   ]
  },
  {
   "cell_type": "code",
   "execution_count": 16,
   "metadata": {},
   "outputs": [
    {
     "data": {
      "text/html": [
       "<div>\n",
       "<style scoped>\n",
       "    .dataframe tbody tr th:only-of-type {\n",
       "        vertical-align: middle;\n",
       "    }\n",
       "\n",
       "    .dataframe tbody tr th {\n",
       "        vertical-align: top;\n",
       "    }\n",
       "\n",
       "    .dataframe thead th {\n",
       "        text-align: right;\n",
       "    }\n",
       "</style>\n",
       "<table border=\"1\" class=\"dataframe\">\n",
       "  <thead>\n",
       "    <tr style=\"text-align: right;\">\n",
       "      <th></th>\n",
       "      <th>start</th>\n",
       "      <th>end</th>\n",
       "      <th>syb</th>\n",
       "      <th>new_start</th>\n",
       "    </tr>\n",
       "  </thead>\n",
       "  <tbody>\n",
       "    <tr>\n",
       "      <th>0</th>\n",
       "      <td>90149890</td>\n",
       "      <td>90152480</td>\n",
       "      <td>a</td>\n",
       "      <td>90149890</td>\n",
       "    </tr>\n",
       "    <tr>\n",
       "      <th>1</th>\n",
       "      <td>92035040</td>\n",
       "      <td>92036960</td>\n",
       "      <td>c</td>\n",
       "      <td>92034609</td>\n",
       "    </tr>\n",
       "    <tr>\n",
       "      <th>2</th>\n",
       "      <td>92039200</td>\n",
       "      <td>92042400</td>\n",
       "      <td>d</td>\n",
       "      <td>92038905</td>\n",
       "    </tr>\n",
       "    <tr>\n",
       "      <th>3</th>\n",
       "      <td>92820610</td>\n",
       "      <td>92823200</td>\n",
       "      <td>a</td>\n",
       "      <td>92820610</td>\n",
       "    </tr>\n",
       "    <tr>\n",
       "      <th>4</th>\n",
       "      <td>92825440</td>\n",
       "      <td>92828640</td>\n",
       "      <td>d</td>\n",
       "      <td>92825108</td>\n",
       "    </tr>\n",
       "    <tr>\n",
       "      <th>...</th>\n",
       "      <td>...</td>\n",
       "      <td>...</td>\n",
       "      <td>...</td>\n",
       "      <td>...</td>\n",
       "    </tr>\n",
       "    <tr>\n",
       "      <th>546</th>\n",
       "      <td>213670560</td>\n",
       "      <td>213672160</td>\n",
       "      <td>z</td>\n",
       "      <td>99999999</td>\n",
       "    </tr>\n",
       "    <tr>\n",
       "      <th>547</th>\n",
       "      <td>213674400</td>\n",
       "      <td>213678880</td>\n",
       "      <td>d</td>\n",
       "      <td>99999999</td>\n",
       "    </tr>\n",
       "    <tr>\n",
       "      <th>548</th>\n",
       "      <td>213835650</td>\n",
       "      <td>213838240</td>\n",
       "      <td>a</td>\n",
       "      <td>99999999</td>\n",
       "    </tr>\n",
       "    <tr>\n",
       "      <th>549</th>\n",
       "      <td>213839200</td>\n",
       "      <td>213841440</td>\n",
       "      <td>z</td>\n",
       "      <td>99999999</td>\n",
       "    </tr>\n",
       "    <tr>\n",
       "      <th>550</th>\n",
       "      <td>213851970</td>\n",
       "      <td>213854560</td>\n",
       "      <td>a</td>\n",
       "      <td>99999999</td>\n",
       "    </tr>\n",
       "  </tbody>\n",
       "</table>\n",
       "<p>551 rows × 4 columns</p>\n",
       "</div>"
      ],
      "text/plain": [
       "         start        end syb  new_start\n",
       "0     90149890   90152480   a   90149890\n",
       "1     92035040   92036960   c   92034609\n",
       "2     92039200   92042400   d   92038905\n",
       "3     92820610   92823200   a   92820610\n",
       "4     92825440   92828640   d   92825108\n",
       "..         ...        ...  ..        ...\n",
       "546  213670560  213672160   z   99999999\n",
       "547  213674400  213678880   d   99999999\n",
       "548  213835650  213838240   a   99999999\n",
       "549  213839200  213841440   z   99999999\n",
       "550  213851970  213854560   a   99999999\n",
       "\n",
       "[551 rows x 4 columns]"
      ]
     },
     "execution_count": 16,
     "metadata": {},
     "output_type": "execute_result"
    }
   ],
   "source": [
    "timings[\"new_start\"] = timings[\"start\"].apply(lambda i: np.flatnonzero(binary_amp[:i+1])[-1])\n",
    "timings"
   ]
  },
  {
   "cell_type": "code",
   "execution_count": 17,
   "metadata": {},
   "outputs": [],
   "source": [
    "import matplotlib.pyplot as plt\n",
    "%matplotlib qt"
   ]
  },
  {
   "cell_type": "code",
   "execution_count": 27,
   "metadata": {},
   "outputs": [],
   "source": [
    "plot_timings = timings.iloc[:5, :]\n",
    "pm, pM = (plot_timings[\"start\"].min()-fs, plot_timings[\"start\"].max()+fs)\n",
    "plt.plot(np.arange(pm, pM), amp[pm:pM], label=\"amp\", color=\"red\")\n",
    "plt.vlines(plot_timings[\"start\"], amp[pm:pM].min(), amp[pm:pM].max(), label=\"start\", color=\"green\", linewidth=3)\n",
    "plt.vlines(plot_timings[\"new_start\"], amp[pm:pM].min(), amp[pm:pM].max(), label=\"new_start\", color=\"blue\", linewidth=1.5)\n",
    "plt.hlines([threshold], pm, pM, label=\"threshold\", color=\"black\")\n",
    "plt.legend()\n",
    "plt.show()\n"
   ]
  }
 ],
 "metadata": {
  "kernelspec": {
   "display_name": "dev",
   "language": "python",
   "name": "python3"
  },
  "language_info": {
   "codemirror_mode": {
    "name": "ipython",
    "version": 3
   },
   "file_extension": ".py",
   "mimetype": "text/x-python",
   "name": "python",
   "nbconvert_exporter": "python",
   "pygments_lexer": "ipython3",
   "version": "3.11.8"
  }
 },
 "nbformat": 4,
 "nbformat_minor": 2
}
