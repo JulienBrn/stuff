{
 "cells": [
  {
   "cell_type": "code",
   "execution_count": 1,
   "metadata": {},
   "outputs": [],
   "source": [
    "from pathlib import Path\n",
    "import numpy as np, pandas as pd, xarray as xr"
   ]
  },
  {
   "cell_type": "code",
   "execution_count": 22,
   "metadata": {},
   "outputs": [
    {
     "data": {
      "text/plain": [
       "['2015-03-09',\n",
       " '2015-03-03',\n",
       " '2015-03-03',\n",
       " '2015-03-04',\n",
       " '2015-03-04',\n",
       " '2015-03-04',\n",
       " '2015-03-05',\n",
       " '2015-03-06',\n",
       " '2015-03-06',\n",
       " '2015-03-06',\n",
       " '2015-03-06',\n",
       " '2015-03-09',\n",
       " '2015-03-09',\n",
       " '2015-03-09',\n",
       " '2015-03-10',\n",
       " '2015-03-10',\n",
       " '2015-03-10',\n",
       " '2015-03-10',\n",
       " '2015-03-10',\n",
       " '2015-03-12',\n",
       " '2015-03-12',\n",
       " '2015-03-12',\n",
       " '2015-03-12',\n",
       " '2015-03-12',\n",
       " '2015-03-12',\n",
       " '2015-03-12',\n",
       " '2015-03-12',\n",
       " '2015-03-13',\n",
       " '2015-03-13']"
      ]
     },
     "execution_count": 22,
     "metadata": {},
     "output_type": "execute_result"
    }
   ],
   "source": [
    "base = Path(\"/media/julienb/Elements/Carmen/LMAN_project/LMANX_correlations_project/LMANX_behavior_data/BirdData/Green23/\")\n",
    "dates = list((base / \"Sessions\").iterdir())\n",
    "date = [\"-\".join(d.stem.split(\"_\")[:3]) for d in dates]\n",
    "kept = [dir for d, dir in zip(date, dates) if d >=\"2015-03-10\" and d <=\"2015-03-13\" and not dir.stem.contains(\"2015_03_12_10_04_26\")]\n",
    "date\n",
    "# dates = [\"-\".join(d.split(\"-\")[::-1]) for d in [\"19-04-2022\", \"20-04-2022\", \"21-04-2022\", \"22-04-2022\", \"23-04-2022\"]]\n",
    "# folders = [base / \"Sessions\" / date for date in dates]\n",
    "# folders"
   ]
  },
  {
   "cell_type": "code",
   "execution_count": 17,
   "metadata": {},
   "outputs": [
    {
     "data": {
      "text/plain": [
       "[PosixPath('/media/julienb/Elements/Carmen/LMAN_project/LMANX_correlations_project/LMANX_behavior_data/BirdData/B60/Sessions/2022-04-19/2022-04-19_11-03-08/song/labels.txt'),\n",
       " PosixPath('/media/julienb/Elements/Carmen/LMAN_project/LMANX_correlations_project/LMANX_behavior_data/BirdData/B60/Sessions/2022-04-19/2022-04-19_20-23-53/song/labels.txt'),\n",
       " PosixPath('/media/julienb/Elements/Carmen/LMAN_project/LMANX_correlations_project/LMANX_behavior_data/BirdData/B60/Sessions/2022-04-20/2022-04-20_15-16-37/song/labels.txt'),\n",
       " PosixPath('/media/julienb/Elements/Carmen/LMAN_project/LMANX_correlations_project/LMANX_behavior_data/BirdData/B60/Sessions/2022-04-20/2022-04-20_17-15-12/song/labels.txt'),\n",
       " PosixPath('/media/julienb/Elements/Carmen/LMAN_project/LMANX_correlations_project/LMANX_behavior_data/BirdData/B60/Sessions/2022-04-20/2022-04-20_18-32-59/song/labels.txt'),\n",
       " PosixPath('/media/julienb/Elements/Carmen/LMAN_project/LMANX_correlations_project/LMANX_behavior_data/BirdData/B60/Sessions/2022-04-21/2022-04-21_13-40-27/song/labels.txt'),\n",
       " PosixPath('/media/julienb/Elements/Carmen/LMAN_project/LMANX_correlations_project/LMANX_behavior_data/BirdData/B60/Sessions/2022-04-22/2022-04-22_12-31-48/song/labels.txt'),\n",
       " PosixPath('/media/julienb/Elements/Carmen/LMAN_project/LMANX_correlations_project/LMANX_behavior_data/BirdData/B60/Sessions/2022-04-22/2022-04-22_15-21-20/song/labels.txt'),\n",
       " PosixPath('/media/julienb/Elements/Carmen/LMAN_project/LMANX_correlations_project/LMANX_behavior_data/BirdData/B60/Sessions/2022-04-23/2022-04-23_10-43-17/song/labels.txt')]"
      ]
     },
     "execution_count": 17,
     "metadata": {},
     "output_type": "execute_result"
    }
   ],
   "source": [
    "labels = [f  for folder in folders for f in folder.glob(\"**/song/labels.txt\")]\n",
    "labels"
   ]
  },
  {
   "cell_type": "code",
   "execution_count": 18,
   "metadata": {},
   "outputs": [],
   "source": [
    "# for f in labels:\n",
    "#     f.rename(f.parent / \"uncorrected_labels.txt\")"
   ]
  },
  {
   "cell_type": "code",
   "execution_count": null,
   "metadata": {},
   "outputs": [],
   "source": []
  }
 ],
 "metadata": {
  "kernelspec": {
   "display_name": "dev",
   "language": "python",
   "name": "python3"
  },
  "language_info": {
   "codemirror_mode": {
    "name": "ipython",
    "version": 3
   },
   "file_extension": ".py",
   "mimetype": "text/x-python",
   "name": "python",
   "nbconvert_exporter": "python",
   "pygments_lexer": "ipython3",
   "version": "3.11.8"
  }
 },
 "nbformat": 4,
 "nbformat_minor": 2
}
