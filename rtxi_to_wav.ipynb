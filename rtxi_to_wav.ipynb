{
 "cells": [
  {
   "cell_type": "code",
   "execution_count": null,
   "metadata": {},
   "outputs": [],
   "source": [
    "from pathlib import Path\n",
    "import pandas as pd, numpy as np"
   ]
  },
  {
   "cell_type": "code",
   "execution_count": null,
   "metadata": {},
   "outputs": [],
   "source": [
    "base_folder = Path(\"/home/julienb/Downloads/RTXI1--box1--1709_2309--birdGold4--fs20000/\")\n",
    "result_folder = Path(\"/media/filer2/T4b/Birds/Songs\")\n",
    "files = list(base_folder.glob(\"**/*.txt\"))\n",
    "files"
   ]
  },
  {
   "cell_type": "code",
   "execution_count": null,
   "metadata": {},
   "outputs": [],
   "source": [
    "df = pd.DataFrame()\n",
    "def get_info(name, pattern):\n",
    "    import re\n",
    "    matches= list(re.finditer(pattern, name))\n",
    "    if len(matches) ==0:\n",
    "        return None\n",
    "    elif len(matches)==1:\n",
    "        return matches[0][\"info\"]\n",
    "    else:\n",
    "        raise Exception(\"multiple matches\")\n",
    "df[\"txt\"] = files\n",
    "df[\"box\"] =  get_info(base_folder.name, '(--|^)box(?P<info>\\w+)(--|$)')\n",
    "df[\"bird\"] =  get_info(base_folder.name, '(--|^)bird(?P<info>\\w+)(--|$)')\n",
    "df[\"fs\"] =  float(get_info(base_folder.name, '(--|^)fs(?P<info>(\\d|\\.)+)(--|$)'))\n",
    "df[\"date_epoch\"] = df[\"txt\"].apply(lambda path: int(path.stem[5:]))\n",
    "df"
   ]
  },
  {
   "cell_type": "code",
   "execution_count": null,
   "metadata": {},
   "outputs": [],
   "source": [
    "import datetime\n",
    "df[\"date\"] = df[\"date_epoch\"].apply(lambda num: datetime.datetime.fromtimestamp(num))\n",
    "df = df.sort_values(\"date\")\n",
    "df"
   ]
  },
  {
   "cell_type": "code",
   "execution_count": null,
   "metadata": {},
   "outputs": [],
   "source": [
    "df[\"dest_path\"] = str(result_folder) + \"/\" + df[\"bird\"] + \"/\" + df[\"date\"].dt.strftime(\"%Y-%m-%d\") + \"/\" +  df[\"bird\"] + \"--box\" + df[\"box\"] + \"--\" + df[\"date\"].dt.strftime(\"%Y-%m-%d_%H-%M-%S\")+ \".wav\"\n",
    "if df[\"dest_path\"].duplicated().any():\n",
    "    print(df[df[\"dest_path\"].duplicated(keep=False)].to_string())\n",
    "    raise Exception(f'duplication...')\n",
    "print(df.to_string())"
   ]
  },
  {
   "cell_type": "code",
   "execution_count": null,
   "metadata": {},
   "outputs": [],
   "source": [
    "from tqdm.auto import tqdm\n",
    "for _, row in tqdm(df.iterrows(), total=len(df.index)):\n",
    "    txt, fs, dest = row[\"txt\"], row[\"fs\"], Path(row[\"dest_path\"])\n",
    "    if dest.exists(): raise Exception(f\"File {dest} already exists....\")\n",
    "    data = np.loadtxt(txt).reshape(-1)\n",
    "    import scipy.io, scipy.signal\n",
    "    if fs > 20000:\n",
    "        filter = scipy.signal.butter(3, [100, 10000], btype=\"bandpass\", output=\"sos\", fs=fs)\n",
    "    else:\n",
    "        filter = scipy.signal.butter(3, 100, btype=\"highpass\", output=\"sos\", fs=fs)\n",
    "    filtered_data = scipy.signal.sosfiltfilt(filter, data)\n",
    "    if fs - int(fs) > 0.0000001:\n",
    "        aligned_filtered_data = np.interp(np.arange(filtered_data.size)/np.round(fs), np.arange(filtered_data.size)/fs, filtered_data)\n",
    "        new_fs = int(np.round(fs))\n",
    "    else:\n",
    "        aligned_filtered_data = filtered_data\n",
    "        new_fs = int(fs)\n",
    "    dest.parent.mkdir(exist_ok=True, parents=True)\n",
    "    scipy.io.wavfile.write(dest, new_fs, aligned_filtered_data)"
   ]
  }
 ],
 "metadata": {
  "kernelspec": {
   "display_name": "dbscripts",
   "language": "python",
   "name": "python3"
  },
  "language_info": {
   "codemirror_mode": {
    "name": "ipython",
    "version": 3
   },
   "file_extension": ".py",
   "mimetype": "text/x-python",
   "name": "python",
   "nbconvert_exporter": "python",
   "pygments_lexer": "ipython3",
   "version": "3.11.10"
  }
 },
 "nbformat": 4,
 "nbformat_minor": 2
}
